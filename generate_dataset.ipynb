{
 "cells": [
  {
   "cell_type": "markdown",
   "metadata": {},
   "source": [
    "1. get clean song segments (~50)\n",
    "2. get seagull noise (~10)\n",
    "3. get noisy segments (~20)\n",
    "4. find event noises (~10)\n",
    "\n",
    "mix and match:\n",
    "generate audios such that mix all the sources above (in varying amplitudes, length)\n",
    "\n",
    "train VAE >> get clean result"
   ]
  },
  {
   "cell_type": "code",
   "execution_count": 1,
   "metadata": {},
   "outputs": [],
   "source": [
    "import os\n",
    "import numpy as np\n",
    "from scipy.io import wavfile\n",
    "import matplotlib.pyplot as plt\n",
    "\n",
    "from IPython.display import Audio\n",
    "\n",
    "from helpers import *"
   ]
  },
  {
   "cell_type": "code",
   "execution_count": 10,
   "metadata": {},
   "outputs": [],
   "source": [
    "def get_noise(audio, sr=44100, freq_cutoff=1000):\n",
    "    return filter(audio, sr, freq_cutoff, t=\"lowpass\")\n",
    "\n",
    "def pad_zero(signal, length, str_idx):\n",
    "    new_sig = np.zeros(length)\n",
    "    new_sig[str_idx:str_idx+len(signal)] = signal\n",
    "    return new_sig"
   ]
  },
  {
   "cell_type": "code",
   "execution_count": 2,
   "metadata": {},
   "outputs": [],
   "source": [
    "random_seed = 0"
   ]
  },
  {
   "cell_type": "code",
   "execution_count": 3,
   "metadata": {},
   "outputs": [],
   "source": [
    "data_dir = \"clear_bird_calls_raw\"\n",
    "filenames = os.listdir(data_dir)"
   ]
  },
  {
   "cell_type": "code",
   "execution_count": 4,
   "metadata": {},
   "outputs": [],
   "source": [
    "# for each song in the folder, apply high pass filter and save audio\n",
    "freq_thresh = 2500\n",
    "save_dir = \"filtered_bird_calls\"\n",
    "\n",
    "for fn in filenames:\n",
    "    if (fn.endswith(\".wav\")):\n",
    "        fs, song = wavfile.read(os.path.join(data_dir, fn))\n",
    "        # apply high pass\n",
    "        high_song = filter(song, fs, freq_thresh, t=\"highpass\")\n",
    "        high_song = scale_song(high_song) # scale to int for saving\n",
    "        # path for saving song\n",
    "        prefix = fn.split(\".wav\")[0]\n",
    "        save_path = os.path.join(save_dir, prefix+f\"_{freq_thresh}.wav\")\n",
    "        wavfile.write(save_path, rate=fs, data=high_song)\n",
    "\n"
   ]
  },
  {
   "cell_type": "code",
   "execution_count": 6,
   "metadata": {},
   "outputs": [],
   "source": [
    "n_noise_sample = 100\n",
    "data_dir = \"segments/2015\"\n",
    "\n",
    "rng = np.random.default_rng(seed=random_seed)\n",
    "wavs = list_wav(data_dir)\n",
    "filenames = rng.choice(wavs, n_noise_sample, replace=False)\n"
   ]
  },
  {
   "cell_type": "code",
   "execution_count": 11,
   "metadata": {},
   "outputs": [],
   "source": [
    "for i, filename in enumerate(filenames):\n",
    "    \n",
    "    sr, audio = wavfile.read(os.path.join(data_dir, filename))\n",
    "    noise = get_noise(audio, sr=sr, freq_cutoff=2000)\n",
    "    wavfile.write(f\"noise/bg_2000/bg_{i}.wav\", rate=sr, data=scale_song(noise))"
   ]
  },
  {
   "cell_type": "code",
   "execution_count": 12,
   "metadata": {},
   "outputs": [
    {
     "name": "stderr",
     "output_type": "stream",
     "text": [
      "/var/folders/r1/g8r4ph9s3h19bwdkrc7h_7sc0000gn/T/ipykernel_63991/3904021313.py:5: WavFileWarning: Chunk (non-data) not understood, skipping it.\n",
      "  sr, gull = wavfile.read(\"noise/seagull.WAV\")\n"
     ]
    }
   ],
   "source": [
    "# get seagull noise\n",
    "# times = [[0.353, 0.573], [0.597, 0.762], [2.180, 2.506], [2.671, 3.012],\n",
    "#          [3.089, 3.652]]\n",
    "times = [[0, 2.604]]\n",
    "sr, gull = wavfile.read(\"noise/seagull.WAV\")"
   ]
  },
  {
   "cell_type": "code",
   "execution_count": 13,
   "metadata": {},
   "outputs": [],
   "source": [
    "for i, t in enumerate(times):\n",
    "    gull_i = gull[int(sr*t[0]):int(sr*t[1])]\n",
    "    wavfile.write(f\"noise/seagull/seagull_{i}.wav\", rate=sr, data=gull_i)"
   ]
  },
  {
   "cell_type": "code",
   "execution_count": 30,
   "metadata": {},
   "outputs": [],
   "source": [
    "n_samples = 500\n",
    "seed = 42\n",
    "\n",
    "bg_dir = \"noise/bg_2000\"\n",
    "noise_dir = \"noise/seagull\"\n",
    "signal_dir = \"filtered_bird_calls\"\n",
    "\n",
    "bg_list = list_wav(bg_dir)\n",
    "noise_list = list_wav(noise_dir)\n",
    "signal_list = list_wav(signal_dir)\n",
    "rng = np.random.default_rng(seed=random_seed)\n"
   ]
  },
  {
   "cell_type": "code",
   "execution_count": 31,
   "metadata": {},
   "outputs": [],
   "source": [
    "def synth(signal, bg, ratio=0.1):\n",
    "    return ratio*signal + (1-ratio) * bg"
   ]
  },
  {
   "cell_type": "code",
   "execution_count": 40,
   "metadata": {},
   "outputs": [],
   "source": [
    "metadata = []\n",
    "for i in range(n_samples):\n",
    "    bg_name = rng.choice(bg_list)\n",
    "    sr, bg = wavfile.read(bg_dir+\"/\"+bg_name)\n",
    "    sig_name = rng.choice(signal_list)\n",
    "    _, signal = wavfile.read(signal_dir+\"/\"+sig_name)\n",
    "\n",
    "    # add_noise = rng.integers(0, 2, size=1)[0]\n",
    "    # if (add_noise):\n",
    "    #     _, noise = wavfile.read(noise_dir+\"/\"+rng.choice(noise_list))\n",
    "    #     # embed noise\n",
    "    #     noise_start = rng.integers(0, len(bg)-len(noise)-1, size=1)[0]\n",
    "    #     noise = pad_zero(noise, len(bg), noise_start)\n",
    "    #     # noise = scale_song(pad_zero(noise, len(bg), noise_start))\n",
    "    #     print(bg.dtype)\n",
    "    #     bg = bg + noise\n",
    "\n",
    "    # embed signal\n",
    "    sig_start = rng.integers(0, len(bg)-len(signal)-1, size=1)[0]\n",
    "    signal = pad_zero(signal, len(bg), sig_start)\n",
    "    \n",
    "    r = rng.uniform(0.05, 0.25)\n",
    "    \n",
    "    new_data = synth(signal, bg, ratio=r)\n",
    "    wavfile.write(f\"synth/composite_{i}.wav\", rate=sr, \n",
    "                  data=scale_song(new_data))\n",
    "    wavfile.write(f\"clean/clean_{i}.wav\", rate=sr, data=scale_song(signal))\n",
    "    \n",
    "    metadata.append([f\"composite_{i}.wav\", bg_name, sig_name, r])"
   ]
  },
  {
   "cell_type": "code",
   "execution_count": 38,
   "metadata": {},
   "outputs": [],
   "source": [
    "import pandas as pd\n",
    "df = pd.DataFrame(metadata, columns=[\"filename\", \"bg\", \"signal\", \"r\"])\n",
    "df.to_csv(\"synth_metadata.csv\")"
   ]
  },
  {
   "cell_type": "code",
   "execution_count": null,
   "metadata": {},
   "outputs": [],
   "source": []
  }
 ],
 "metadata": {
  "kernelspec": {
   "display_name": "KSCB",
   "language": "python",
   "name": "python3"
  },
  "language_info": {
   "codemirror_mode": {
    "name": "ipython",
    "version": 3
   },
   "file_extension": ".py",
   "mimetype": "text/x-python",
   "name": "python",
   "nbconvert_exporter": "python",
   "pygments_lexer": "ipython3",
   "version": "3.10.14"
  }
 },
 "nbformat": 4,
 "nbformat_minor": 2
}
