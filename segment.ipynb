{
 "cells": [
  {
   "cell_type": "code",
   "execution_count": 1,
   "metadata": {},
   "outputs": [],
   "source": [
    "import os\n",
    "import numpy as np\n",
    "from scipy.io import wavfile\n",
    "from scipy.signal import spectrogram, convolve, correlate\n",
    "import matplotlib.pyplot as plt\n",
    "\n",
    "from IPython.display import Audio\n",
    "\n",
    "from helpers import *"
   ]
  },
  {
   "cell_type": "code",
   "execution_count": 150,
   "metadata": {},
   "outputs": [
    {
     "name": "stderr",
     "output_type": "stream",
     "text": [
      "/var/folders/r1/g8r4ph9s3h19bwdkrc7h_7sc0000gn/T/ipykernel_32911/3966032516.py:4: WavFileWarning: Chunk (non-data) not understood, skipping it.\n",
      "  sr, rec = wavfile.read(os.path.join(\"long_rec\", rec_name))\n"
     ]
    }
   ],
   "source": [
    "# find 1 instance of the \"gong\" sound\n",
    "rec_name = \"mrrr_20150410_0920_002_PN.WAV\"\n",
    "t0, t1 = 9.9, 10.15\n",
    "sr, rec = wavfile.read(os.path.join(\"long_rec\", rec_name))\n",
    "marker = rec[int(t0*sr):int(t1*sr)]\n",
    "Audio(marker, rate=sr)\n",
    "\n",
    "nperseg = 120\n",
    "\n",
    "_, _, sxx_marker = spectrogram(marker, fs=sr, nperseg=nperseg)"
   ]
  },
  {
   "cell_type": "code",
   "execution_count": 149,
   "metadata": {},
   "outputs": [],
   "source": [
    "def find_segments(song, sr, sxx_marker, win=(\"hann\"), nps=120, \n",
    "                  peak_thresh=0.2, peak_dist=1500,\n",
    "                  tol=20, seg_len=4.1, early_stop=0.1):\n",
    "\n",
    "    f, t, sxx = spectrogram(song, fs=fs, window=win, nperseg=nps)\n",
    "\n",
    "    # cross correlate with marker\n",
    "    c = correlate(sxx, sxx_marker, mode=\"valid\")\n",
    "    c = np.squeeze(c)\n",
    "    min_c, max_c = min(c), max(c)\n",
    "    c = (c-min_c)/(max_c-min_c)\n",
    "\n",
    "    peaks, _ = find_peaks(c, height=0.2, distance=1500)\n",
    "\n",
    "    segments = []\n",
    "    for p in peaks:\n",
    "        seg_t1 = int(p * song.shape[0]/sxx.shape[1] - fs*early_stop)\n",
    "        seg_t0 = int(max(seg_t1 - fs*seg_len, 0))\n",
    "        segments.append([seg_t0, seg_t1])\n",
    "    \n",
    "    return segments"
   ]
  },
  {
   "cell_type": "code",
   "execution_count": 125,
   "metadata": {},
   "outputs": [
    {
     "name": "stdout",
     "output_type": "stream",
     "text": [
      "1259.9870223503967\n"
     ]
    }
   ],
   "source": [
    "# print(sxx/t.shape[0])\n",
    "print(3/(len(song)/sr/t.shape[0]))"
   ]
  },
  {
   "cell_type": "code",
   "execution_count": 143,
   "metadata": {},
   "outputs": [
    {
     "name": "stdout",
     "output_type": "stream",
     "text": [
      "['bbom_20150324_0844_002_PN.WAV', 'bbom_20150324_0847_005_PN.WAV', 'bbom_20150324_0931_008_PN.WAV']\n",
      "(61, 97089)\n"
     ]
    },
    {
     "name": "stderr",
     "output_type": "stream",
     "text": [
      "/var/folders/r1/g8r4ph9s3h19bwdkrc7h_7sc0000gn/T/ipykernel_32911/1929160478.py:4: WavFileWarning: Chunk (non-data) not understood, skipping it.\n",
      "  sr, song = wavfile.read(os.path.join(base_dir, data_dir, filename))\n"
     ]
    },
    {
     "name": "stdout",
     "output_type": "stream",
     "text": [
      "(1, 96986)\n"
     ]
    }
   ],
   "source": [
    "filename = filenames[2]\n",
    "print(filenames)\n",
    "\n",
    "sr, song = wavfile.read(os.path.join(base_dir, data_dir, filename))\n",
    "f, t, sxx = spectrogram(song, fs=sr, nperseg=120)\n",
    "\n",
    "print(sxx.shape)\n",
    "\n",
    "c = correlate(sxx, sxx_marker, mode=\"valid\")\n",
    "print(c.shape)\n",
    "c = np.squeeze(c)\n",
    "min_c, max_c = min(c), max(c)\n",
    "c= (c-min_c)/(max_c-min_c)"
   ]
  },
  {
   "cell_type": "code",
   "execution_count": 135,
   "metadata": {},
   "outputs": [
    {
     "name": "stdout",
     "output_type": "stream",
     "text": [
      "[ 2785 27655 33650 37245 44281 54957 65412 68217 71650 76205]\n"
     ]
    },
    {
     "data": {
      "image/png": "[encoded data removed]",
      "text/plain": [
       "<Figure size 640x480 with 1 Axes>"
      ]
     },
     "metadata": {},
     "output_type": "display_data"
    }
   ],
   "source": [
    "from scipy.signal import find_peaks\n",
    "\n",
    "plt.plot(c)\n",
    "# plt.plot(np.diff(c))\n",
    "\n",
    "idx, _ = find_peaks(c, height=0.2, distance=1500)\n",
    "\n",
    "plt.plot(idx, c[idx], \"x\")\n",
    "plt.plot(np.diff(c))\n",
    "# plt.xlim([12100, 12300])\n",
    "print(idx)\n",
    "\n",
    "# # plt.plot(all_high_points)\n",
    "# print(peaks)\n",
    "\n",
    "# # plt.plot(all_high_points)\n",
    "# for p in peaks:\n",
    "#     plt.axvline(p, ls=\"--\")\n",
    "\n",
    "# print(np.where(c > 0.05))\n",
    "# plt.xlim()\n",
    "# np.where(c > q)\n",
    "# plt.plot(c.T-min(c))\n",
    "# print(c - min(c) > 1e5)"
   ]
  },
  {
   "cell_type": "code",
   "execution_count": 89,
   "metadata": {},
   "outputs": [],
   "source": [
    "from copy import deepcopy\n",
    "# def consolidate_peaks(vals, max_width=20):\n",
    "#     i = 0\n",
    "#     peaks = []\n",
    "#     curr_start = None\n",
    "#     width = 0\n",
    "#     while (i < len(vals)):\n",
    "#         if (vals[i] == 1): # find a peak or in the peak\n",
    "#             print(i)\n",
    "#             if (curr_start is None): # find a peak\n",
    "#                 curr_start = i\n",
    "#             else:\n",
    "#                 width += 1\n",
    "#         else: # non peak or exit peak\n",
    "#             if (width > 0 and width <= max_width):\n",
    "#                 peaks.append(curr_start + width//2)\n",
    "#             else:\n",
    "#                 curr_start = None\n",
    "#                 width = 0\n",
    "#         i += 1\n",
    "#     return peaks\n",
    "        \n",
    "\n",
    "def clear_peaks(all_idx, tol):\n",
    "    peaks = []\n",
    "    curr_peak = None\n",
    "    i = 0\n",
    "    while (i < len(all_idx)):\n",
    "        curr_val = all_idx[i]\n",
    "        if (curr_peak is None or curr_val > curr_peak+tol):\n",
    "            peaks.append(curr_val)\n",
    "            curr_peak = curr_val\n",
    "        i += 1\n",
    "    return peaks\n",
    "\n",
    "def find_segments(song, fs, win=(\"hann\"), nps=200, \n",
    "                  peak_thresh=5000, freq_thresh=1e4,\n",
    "                  tol=20, seg_len=4.1, early_stop=0):\n",
    "\n",
    "    f, t, sxx = spectrogram(song, fs=fs, window=win, nperseg=nps)\n",
    "    print(song.shape)\n",
    "    # print(t.shape, song.shape*fs/t.shape)\n",
    "\n",
    "    # define an \"edge\" detecting kernel\n",
    "    conv_elem = np.zeros((f.shape[0], 3))\n",
    "    conv_elem[:, 0] = -1\n",
    "    conv_elem[:, 1] = 1\n",
    "    conv_elem[:, 2] = 1\n",
    "    \n",
    "    # convolve with spectrogram\n",
    "    conv_prod = np.squeeze(convolve(sxx, conv_elem, mode=\"valid\"))\n",
    "    # plt.figure()\n",
    "    plt.plot(np.sum(sxx, axis=0))\n",
    "\n",
    "    # the frequency bin of interest\n",
    "    all_tp = np.where(conv_prod > peak_thresh)[0] # temp peaks\n",
    "    peaks = clear_peaks(all_tp, tol)\n",
    "\n",
    "    segments = []\n",
    "    for p in peaks:\n",
    "        seg_t1 = int(p * song.shape[0]/sxx.shape[1] - fs*early_stop)\n",
    "        seg_t0 = int(max(seg_t1 - fs*seg_len, 0))\n",
    "        segments.append([seg_t0, seg_t1])\n",
    "    \n",
    "    return segments"
   ]
  },
  {
   "cell_type": "code",
   "execution_count": 147,
   "metadata": {},
   "outputs": [],
   "source": [
    "YEAR = 2015\n",
    "\n",
    "# overall folder\n",
    "base_dir = f\"/Volumes/My Passport/Song sparrow songs analysis/Song analysis - Jiayi/Named/\"\n",
    "\n",
    "data_dir = f\"Recordings {YEAR}/Named\" # where recordings are stored\n",
    "save_dir = f\"Segments_{YEAR}\" # where segments will be saved\n",
    "\n",
    "# list all wav files\n",
    "filenames = list_wav(os.path.join(base_dir, data_dir))"
   ]
  },
  {
   "cell_type": "code",
   "execution_count": 160,
   "metadata": {},
   "outputs": [
    {
     "name": "stdout",
     "output_type": "stream",
     "text": [
      "-1322\n"
     ]
    },
    {
     "name": "stderr",
     "output_type": "stream",
     "text": [
      "/var/folders/r1/g8r4ph9s3h19bwdkrc7h_7sc0000gn/T/ipykernel_32284/58241865.py:4: WavFileWarning: Chunk (non-data) not understood, skipping it.\n",
      "  sr, rec = wavfile.read(os.path.join(\"long_rec\", rec_name))\n"
     ]
    }
   ],
   "source": [
    "# find 1 instance of the \"gong\" sound\n",
    "rec_name = \"mrrr_20150410_0920_002_PN.WAV\"\n",
    "t0, t1 = 10.01, 10.04\n",
    "sr, rec = wavfile.read(os.path.join(\"long_rec\", rec_name))\n",
    "\n",
    "marker = rec[int(t0*sr):int(t1*sr)]\n",
    "# _, _, sxx_marker = spectrogram(marker, fs=sr, nperseg=120)\n",
    "\n",
    "# sr, song = wavfile.read(os.path.join(base_dir, data_dir, filename))\n",
    "# f, t, sxx = spectrogram(song, fs=sr, nperseg=120)\n",
    "print(int(t0*sr)-int(t1*sr))"
   ]
  },
  {
   "cell_type": "code",
   "execution_count": 153,
   "metadata": {},
   "outputs": [
    {
     "name": "stdout",
     "output_type": "stream",
     "text": [
      "Segmenting 1/389...\n"
     ]
    },
    {
     "name": "stderr",
     "output_type": "stream",
     "text": [
      "/var/folders/r1/g8r4ph9s3h19bwdkrc7h_7sc0000gn/T/ipykernel_32911/701041680.py:11: WavFileWarning: Chunk (non-data) not understood, skipping it.\n",
      "  fs, song = wavfile.read(os.path.join(base_dir, data_dir, filename))\n"
     ]
    },
    {
     "name": "stdout",
     "output_type": "stream",
     "text": [
      "Segmenting 2/389...\n",
      "Segmenting 3/389...\n",
      "Segmenting 4/389...\n",
      "Segmenting 5/389...\n",
      "Segmenting 6/389...\n",
      "Segmenting 7/389...\n",
      "Segmenting 8/389...\n"
     ]
    },
    {
     "name": "stderr",
     "output_type": "stream",
     "text": [
      "/Users/jiayizhang/miniconda3/envs/KSCB/lib/python3.10/site-packages/matplotlib/axes/_axes.py:7947: RuntimeWarning: divide by zero encountered in log10\n",
      "  Z = 10. * np.log10(spec)\n"
     ]
    },
    {
     "name": "stdout",
     "output_type": "stream",
     "text": [
      "Segmenting 9/389...\n",
      "Segmenting 10/389...\n",
      "Segmenting 11/389...\n",
      "Segmenting 12/389...\n",
      "Segmenting 13/389...\n",
      "Segmenting 14/389...\n",
      "Segmenting 15/389...\n",
      "Segmenting 16/389...\n",
      "Segmenting 17/389...\n",
      "Segmenting 18/389...\n",
      "Segmenting 19/389...\n",
      "Segmenting 20/389...\n",
      "Segmenting 21/389...\n",
      "Segmenting 22/389...\n",
      "Segmenting 23/389...\n",
      "Segmenting 24/389...\n",
      "Segmenting 25/389...\n",
      "Segmenting 26/389...\n",
      "Segmenting 27/389...\n",
      "Segmenting 28/389...\n",
      "Segmenting 29/389...\n",
      "Segmenting 30/389...\n",
      "Segmenting 31/389...\n",
      "Segmenting 32/389...\n",
      "Segmenting 33/389...\n",
      "Segmenting 34/389...\n",
      "Segmenting 35/389...\n",
      "Segmenting 36/389...\n",
      "Segmenting 37/389...\n",
      "Segmenting 38/389...\n",
      "Segmenting 39/389...\n",
      "Segmenting 40/389...\n",
      "Segmenting 41/389...\n",
      "Segmenting 42/389...\n",
      "Segmenting 43/389...\n",
      "Segmenting 44/389...\n",
      "Segmenting 45/389...\n",
      "Segmenting 46/389...\n",
      "Segmenting 47/389...\n",
      "Segmenting 48/389...\n",
      "Segmenting 49/389...\n",
      "Segmenting 50/389...\n",
      "Segmenting 51/389...\n",
      "Segmenting 52/389...\n",
      "Segmenting 53/389...\n",
      "Segmenting 54/389...\n",
      "Segmenting 55/389...\n",
      "Segmenting 56/389...\n",
      "Segmenting 57/389...\n",
      "Segmenting 58/389...\n",
      "Segmenting 59/389...\n",
      "Segmenting 60/389...\n",
      "Segmenting 61/389...\n",
      "Segmenting 62/389...\n",
      "Segmenting 63/389...\n",
      "Segmenting 64/389...\n",
      "Segmenting 65/389...\n",
      "Segmenting 66/389...\n",
      "Segmenting 67/389...\n",
      "Segmenting 68/389...\n",
      "Segmenting 69/389...\n",
      "Segmenting 70/389...\n",
      "Segmenting 71/389...\n",
      "Segmenting 72/389...\n",
      "Segmenting 73/389...\n",
      "Segmenting 74/389...\n",
      "Segmenting 75/389...\n",
      "Segmenting 76/389...\n",
      "Segmenting 77/389...\n",
      "Segmenting 78/389...\n",
      "Segmenting 79/389...\n",
      "Segmenting 80/389...\n",
      "Segmenting 81/389...\n",
      "Segmenting 82/389...\n",
      "Segmenting 83/389...\n",
      "Segmenting 84/389...\n",
      "Segmenting 85/389...\n",
      "Segmenting 86/389...\n",
      "Segmenting 87/389...\n",
      "Segmenting 88/389...\n",
      "Segmenting 89/389...\n",
      "Segmenting 90/389...\n",
      "Segmenting 91/389...\n",
      "Segmenting 92/389...\n",
      "Segmenting 93/389...\n",
      "Segmenting 94/389...\n",
      "Segmenting 95/389...\n",
      "Segmenting 96/389...\n",
      "Segmenting 97/389...\n",
      "Segmenting 98/389...\n",
      "Segmenting 99/389...\n",
      "Segmenting 100/389...\n",
      "Segmenting 101/389...\n",
      "Segmenting 102/389...\n",
      "Segmenting 103/389...\n",
      "Segmenting 104/389...\n",
      "Segmenting 105/389...\n",
      "Segmenting 106/389...\n",
      "Segmenting 107/389...\n",
      "Segmenting 108/389...\n",
      "Segmenting 109/389...\n",
      "Segmenting 110/389...\n",
      "Segmenting 111/389...\n",
      "Segmenting 112/389...\n",
      "Segmenting 113/389...\n",
      "Segmenting 114/389...\n",
      "Segmenting 115/389...\n",
      "Segmenting 116/389...\n",
      "Segmenting 117/389...\n",
      "Segmenting 118/389...\n",
      "Segmenting 119/389...\n",
      "Segmenting 120/389...\n",
      "Segmenting 121/389...\n",
      "Segmenting 122/389...\n",
      "Segmenting 123/389...\n",
      "Segmenting 124/389...\n",
      "Segmenting 125/389...\n",
      "Segmenting 126/389...\n",
      "Segmenting 127/389...\n",
      "Segmenting 128/389...\n",
      "Segmenting 129/389...\n",
      "Segmenting 130/389...\n",
      "Segmenting 131/389...\n",
      "Segmenting 132/389...\n",
      "Segmenting 133/389...\n",
      "Segmenting 134/389...\n",
      "Segmenting 135/389...\n",
      "Segmenting 136/389...\n",
      "Segmenting 137/389...\n",
      "Segmenting 138/389...\n",
      "Segmenting 139/389...\n",
      "Segmenting 140/389...\n",
      "Segmenting 141/389...\n",
      "Segmenting 142/389...\n",
      "Segmenting 143/389...\n",
      "Segmenting 144/389...\n",
      "Segmenting 145/389...\n",
      "Segmenting 146/389...\n",
      "Segmenting 147/389...\n",
      "Segmenting 148/389...\n",
      "Segmenting 149/389...\n",
      "Segmenting 150/389...\n",
      "Segmenting 151/389...\n",
      "Segmenting 152/389...\n",
      "Segmenting 153/389...\n",
      "Segmenting 154/389...\n",
      "Segmenting 155/389...\n",
      "Segmenting 156/389...\n",
      "Segmenting 157/389...\n",
      "Segmenting 158/389...\n",
      "Segmenting 159/389...\n",
      "Segmenting 160/389...\n",
      "Segmenting 161/389...\n",
      "Segmenting 162/389...\n",
      "Segmenting 163/389...\n",
      "Segmenting 164/389...\n",
      "Segmenting 165/389...\n",
      "Segmenting 166/389...\n",
      "Segmenting 167/389...\n",
      "Segmenting 168/389...\n",
      "Segmenting 169/389...\n",
      "Segmenting 170/389...\n",
      "Segmenting 171/389...\n",
      "Segmenting 172/389...\n",
      "Segmenting 173/389...\n",
      "Segmenting 174/389...\n",
      "Segmenting 175/389...\n",
      "Segmenting 176/389...\n",
      "Segmenting 177/389...\n",
      "Segmenting 178/389...\n",
      "Segmenting 179/389...\n",
      "Segmenting 180/389...\n",
      "Segmenting 181/389...\n",
      "Segmenting 182/389...\n",
      "Segmenting 183/389...\n",
      "Segmenting 184/389...\n",
      "Segmenting 185/389...\n",
      "Segmenting 186/389...\n",
      "Segmenting 187/389...\n",
      "Segmenting 188/389...\n",
      "Segmenting 189/389...\n",
      "Segmenting 190/389...\n",
      "Segmenting 191/389...\n",
      "Segmenting 192/389...\n",
      "Segmenting 193/389...\n",
      "Segmenting 194/389...\n",
      "Segmenting 195/389...\n",
      "Segmenting 196/389...\n",
      "Segmenting 197/389...\n",
      "Segmenting 198/389...\n",
      "Segmenting 199/389...\n",
      "Segmenting 200/389...\n",
      "Segmenting 201/389...\n",
      "Segmenting 202/389...\n",
      "Segmenting 203/389...\n",
      "Segmenting 204/389...\n",
      "Segmenting 205/389...\n",
      "Segmenting 206/389...\n",
      "Segmenting 207/389...\n",
      "Segmenting 208/389...\n",
      "Segmenting 209/389...\n",
      "Segmenting 210/389...\n",
      "Segmenting 211/389...\n",
      "Segmenting 212/389...\n",
      "Segmenting 213/389...\n",
      "Segmenting 214/389...\n",
      "Segmenting 215/389...\n",
      "Segmenting 216/389...\n",
      "Segmenting 217/389...\n",
      "Segmenting 218/389...\n",
      "Segmenting 219/389...\n",
      "Segmenting 220/389...\n",
      "Segmenting 221/389...\n",
      "Segmenting 222/389...\n",
      "Segmenting 223/389...\n",
      "Segmenting 224/389...\n",
      "Segmenting 225/389...\n",
      "Segmenting 226/389...\n",
      "Segmenting 227/389...\n",
      "Segmenting 228/389...\n",
      "Segmenting 229/389...\n",
      "Segmenting 230/389...\n",
      "Segmenting 231/389...\n",
      "Segmenting 232/389...\n",
      "Segmenting 233/389...\n",
      "Segmenting 234/389...\n",
      "Segmenting 235/389...\n",
      "Segmenting 236/389...\n",
      "Segmenting 237/389...\n",
      "Segmenting 238/389...\n",
      "Segmenting 239/389...\n",
      "Segmenting 240/389...\n",
      "Segmenting 241/389...\n",
      "Segmenting 242/389...\n",
      "Segmenting 243/389...\n",
      "Segmenting 244/389...\n",
      "Segmenting 245/389...\n",
      "Segmenting 246/389...\n",
      "Segmenting 247/389...\n",
      "Segmenting 248/389...\n",
      "Segmenting 249/389...\n",
      "Segmenting 250/389...\n",
      "Segmenting 251/389...\n",
      "Segmenting 252/389...\n",
      "Segmenting 253/389...\n",
      "Segmenting 254/389...\n",
      "Segmenting 255/389...\n",
      "Segmenting 256/389...\n",
      "Segmenting 257/389...\n",
      "Segmenting 258/389...\n",
      "Segmenting 259/389...\n",
      "Segmenting 260/389...\n",
      "Segmenting 261/389...\n",
      "Segmenting 262/389...\n",
      "Segmenting 263/389...\n",
      "Segmenting 264/389...\n",
      "Segmenting 265/389...\n",
      "Segmenting 266/389...\n",
      "Segmenting 267/389...\n",
      "Segmenting 268/389...\n",
      "Segmenting 269/389...\n",
      "Segmenting 270/389...\n",
      "Segmenting 271/389...\n",
      "Segmenting 272/389...\n",
      "Segmenting 273/389...\n",
      "Segmenting 274/389...\n",
      "Segmenting 275/389...\n",
      "Segmenting 276/389...\n",
      "Segmenting 277/389...\n",
      "Segmenting 278/389...\n",
      "Segmenting 279/389...\n",
      "Segmenting 280/389...\n",
      "Segmenting 281/389...\n",
      "Segmenting 282/389...\n",
      "Segmenting 283/389...\n",
      "Segmenting 284/389...\n",
      "Segmenting 285/389...\n",
      "Segmenting 286/389...\n",
      "Segmenting 287/389...\n",
      "Segmenting 288/389...\n",
      "Segmenting 289/389...\n",
      "Segmenting 290/389...\n",
      "Segmenting 291/389...\n",
      "Segmenting 292/389...\n",
      "Segmenting 293/389...\n",
      "Segmenting 294/389...\n",
      "Segmenting 295/389...\n",
      "Segmenting 296/389...\n",
      "Segmenting 297/389...\n",
      "Segmenting 298/389...\n",
      "Segmenting 299/389...\n",
      "Segmenting 300/389...\n",
      "Segmenting 301/389...\n",
      "Segmenting 302/389...\n",
      "Segmenting 303/389...\n",
      "Segmenting 304/389...\n",
      "Segmenting 305/389...\n",
      "Segmenting 306/389...\n",
      "Segmenting 307/389...\n",
      "Segmenting 308/389...\n",
      "Segmenting 309/389...\n",
      "Segmenting 310/389...\n",
      "Segmenting 311/389...\n",
      "Segmenting 312/389...\n",
      "Segmenting 313/389...\n",
      "Segmenting 314/389...\n",
      "Segmenting 315/389...\n",
      "Segmenting 316/389...\n",
      "Segmenting 317/389...\n",
      "Segmenting 318/389...\n",
      "Segmenting 319/389...\n",
      "Segmenting 320/389...\n",
      "Segmenting 321/389...\n",
      "Segmenting 322/389...\n",
      "Segmenting 323/389...\n",
      "Segmenting 324/389...\n",
      "Segmenting 325/389...\n",
      "Segmenting 326/389...\n",
      "Segmenting 327/389...\n",
      "Segmenting 328/389...\n",
      "Segmenting 329/389...\n",
      "Segmenting 330/389...\n",
      "Segmenting 331/389...\n",
      "Segmenting 332/389...\n",
      "Segmenting 333/389...\n",
      "Segmenting 334/389...\n",
      "Segmenting 335/389...\n",
      "Segmenting 336/389...\n",
      "Segmenting 337/389...\n",
      "Segmenting 338/389...\n",
      "Segmenting 339/389...\n",
      "Segmenting 340/389...\n",
      "Segmenting 341/389...\n",
      "Segmenting 342/389...\n",
      "Segmenting 343/389...\n",
      "Segmenting 344/389...\n",
      "Segmenting 345/389...\n",
      "Segmenting 346/389...\n",
      "Segmenting 347/389...\n",
      "Segmenting 348/389...\n",
      "Segmenting 349/389...\n",
      "Segmenting 350/389...\n",
      "Segmenting 351/389...\n",
      "Segmenting 352/389...\n",
      "Segmenting 353/389...\n",
      "Segmenting 354/389...\n",
      "Segmenting 355/389...\n",
      "Segmenting 356/389...\n",
      "Segmenting 357/389...\n",
      "Segmenting 358/389...\n",
      "Segmenting 359/389...\n",
      "Segmenting 360/389...\n",
      "Segmenting 361/389...\n",
      "Segmenting 362/389...\n",
      "Segmenting 363/389...\n",
      "Segmenting 364/389...\n",
      "Segmenting 365/389...\n",
      "Segmenting 366/389...\n",
      "Segmenting 367/389...\n",
      "Segmenting 368/389...\n",
      "Segmenting 369/389...\n",
      "Segmenting 370/389...\n",
      "Segmenting 371/389...\n",
      "Segmenting 372/389...\n",
      "Segmenting 373/389...\n",
      "Segmenting 374/389...\n",
      "Segmenting 375/389...\n",
      "Segmenting 376/389...\n",
      "Segmenting 377/389...\n",
      "Segmenting 378/389...\n",
      "Segmenting 379/389...\n",
      "Segmenting 380/389...\n",
      "Segmenting 381/389...\n",
      "Segmenting 382/389...\n",
      "Segmenting 383/389...\n",
      "Segmenting 384/389...\n",
      "Segmenting 385/389...\n",
      "Segmenting 386/389...\n",
      "Segmenting 387/389...\n",
      "Segmenting 388/389...\n",
      "Segmenting 389/389...\n"
     ]
    }
   ],
   "source": [
    "data = []\n",
    "n_files = len(filenames)\n",
    "\n",
    "for i, filename in enumerate(filenames):\n",
    "    print(f\"Segmenting {i+1}/{n_files}...\")\n",
    "\n",
    "    # get individual info\n",
    "    ind, year, month, day = parse_filename(filename)\n",
    "\n",
    "    # get segments in the wav file\n",
    "    fs, song = wavfile.read(os.path.join(base_dir, data_dir, filename))\n",
    "    segs = find_segments(song, fs, sxx_marker, nps=nperseg)\n",
    "\n",
    "    for i, seg in enumerate(segs):\n",
    "        t0, t1 = seg\n",
    "        aud_seg = song[t0:t1]\n",
    "        save_name= filename.split(\".WAV\")[0] + f\"_{i}\"\n",
    "        spath = os.path.join(base_dir, save_dir, save_name)\n",
    "        # make spec plot\n",
    "        plot_spec(aud_seg, fs, save_path=spath+\".png\", max_freq=10000)\n",
    "        # save audio\n",
    "        wavfile.write(spath+\".wav\", rate=fs, data=scale_song(aud_seg))\n",
    "        data.append([filename, spath+\".wav\", ind, year, month, day, t0, t1])\n",
    "    \n"
   ]
  },
  {
   "cell_type": "code",
   "execution_count": 155,
   "metadata": {},
   "outputs": [],
   "source": [
    "import pandas as pd\n",
    "# data.append([filename, ind, year, month, day, t0, t1])\n",
    "df = pd.DataFrame(data, columns=[\"sourcefile\", \"filename\", \n",
    "                                 \"ind\", \"year\", \"month\", \"day\",\\\n",
    "                                 \"t0\", \"t1\"])"
   ]
  },
  {
   "cell_type": "code",
   "execution_count": 158,
   "metadata": {},
   "outputs": [],
   "source": [
    "df.to_csv(os.path.join(base_dir, save_dir, f\"metadata_segments_{YEAR}.csv\"))"
   ]
  },
  {
   "cell_type": "code",
   "execution_count": null,
   "metadata": {},
   "outputs": [
    {
     "name": "stdout",
     "output_type": "stream",
     "text": [
      "['mrrr_20150410_0920_002_PN.WAV', 'mrrr_20150419_0756_002_MA.WAV']\n"
     ]
    },
    {
     "name": "stderr",
     "output_type": "stream",
     "text": [
      "/var/folders/r1/g8r4ph9s3h19bwdkrc7h_7sc0000gn/T/ipykernel_20969/187281246.py:5: WavFileWarning: Chunk (non-data) not understood, skipping it.\n",
      "  fs, song = wavfile.read(os.path.join(data_dir, filenames[0]))\n"
     ]
    }
   ],
   "source": [
    "# find a way to segment out all the calls\n",
    "data_dir = \"long_rec\"\n",
    "filenames = os.listdir(data_dir)\n",
    "print(filenames)\n",
    "fs, song = wavfile.read(os.path.join(data_dir, filenames[0]))\n"
   ]
  },
  {
   "cell_type": "code",
   "execution_count": 71,
   "metadata": {},
   "outputs": [
    {
     "ename": "FileNotFoundError",
     "evalue": "[Errno 2] No such file or directory: '/Volumes/My Passport/Song sparrow songs analysis/Song analysis - Jiayi/Named/Recordings 2015/Named/mbrb_20150410_0840_008_PN.WAV'",
     "output_type": "error",
     "traceback": [
      "\u001b[0;31m---------------------------------------------------------------------------\u001b[0m",
      "\u001b[0;31mFileNotFoundError\u001b[0m                         Traceback (most recent call last)",
      "Cell \u001b[0;32mIn[71], line 5\u001b[0m\n\u001b[1;32m      2\u001b[0m data_dir \u001b[38;5;241m=\u001b[39m \u001b[38;5;124mf\u001b[39m\u001b[38;5;124m\"\u001b[39m\u001b[38;5;124m/Volumes/My Passport/Song sparrow songs analysis/Song analysis - Jiayi/Named/Recordings \u001b[39m\u001b[38;5;132;01m{\u001b[39;00mYEAR\u001b[38;5;132;01m}\u001b[39;00m\u001b[38;5;124m/Named\u001b[39m\u001b[38;5;124m\"\u001b[39m\n\u001b[1;32m      3\u001b[0m song_name \u001b[38;5;241m=\u001b[39m \u001b[38;5;124m\"\u001b[39m\u001b[38;5;124mmbrb_20150410_0840_008_PN.WAV\u001b[39m\u001b[38;5;124m\"\u001b[39m\n\u001b[0;32m----> 5\u001b[0m sr, song \u001b[38;5;241m=\u001b[39m \u001b[43mwavfile\u001b[49m\u001b[38;5;241;43m.\u001b[39;49m\u001b[43mread\u001b[49m\u001b[43m(\u001b[49m\u001b[43mos\u001b[49m\u001b[38;5;241;43m.\u001b[39;49m\u001b[43mpath\u001b[49m\u001b[38;5;241;43m.\u001b[39;49m\u001b[43mjoin\u001b[49m\u001b[43m(\u001b[49m\u001b[43mdata_dir\u001b[49m\u001b[43m,\u001b[49m\u001b[43m \u001b[49m\u001b[43msong_name\u001b[49m\u001b[43m)\u001b[49m\u001b[43m)\u001b[49m\n",
      "File \u001b[0;32m~/miniconda3/envs/KSCB/lib/python3.10/site-packages/scipy/io/wavfile.py:674\u001b[0m, in \u001b[0;36mread\u001b[0;34m(filename, mmap)\u001b[0m\n\u001b[1;32m    672\u001b[0m     mmap \u001b[38;5;241m=\u001b[39m \u001b[38;5;28;01mFalse\u001b[39;00m\n\u001b[1;32m    673\u001b[0m \u001b[38;5;28;01melse\u001b[39;00m:\n\u001b[0;32m--> 674\u001b[0m     fid \u001b[38;5;241m=\u001b[39m \u001b[38;5;28;43mopen\u001b[39;49m\u001b[43m(\u001b[49m\u001b[43mfilename\u001b[49m\u001b[43m,\u001b[49m\u001b[43m \u001b[49m\u001b[38;5;124;43m'\u001b[39;49m\u001b[38;5;124;43mrb\u001b[39;49m\u001b[38;5;124;43m'\u001b[39;49m\u001b[43m)\u001b[49m\n\u001b[1;32m    676\u001b[0m \u001b[38;5;28;01mtry\u001b[39;00m:\n\u001b[1;32m    677\u001b[0m     file_size, is_big_endian, is_rf64 \u001b[38;5;241m=\u001b[39m _read_riff_chunk(fid)\n",
      "\u001b[0;31mFileNotFoundError\u001b[0m: [Errno 2] No such file or directory: '/Volumes/My Passport/Song sparrow songs analysis/Song analysis - Jiayi/Named/Recordings 2015/Named/mbrb_20150410_0840_008_PN.WAV'"
     ]
    }
   ],
   "source": [
    "YEAR = 2015\n",
    "data_dir = f\"/Volumes/My Passport/Song sparrow songs analysis/Song analysis - Jiayi/Named/Recordings {YEAR}/Named\"\n",
    "song_name = \"mbrb_20150410_0840_008_PN.WAV\"\n",
    "\n",
    "sr, song = wavfile.read(os.path.join(data_dir, song_name))\n"
   ]
  },
  {
   "cell_type": "code",
   "execution_count": 74,
   "metadata": {},
   "outputs": [
    {
     "name": "stdout",
     "output_type": "stream",
     "text": [
      "[ 31.90003229 -17.51337194 -17.48913459 ...   0.5214259    1.79518709\n",
      "   1.10781574]\n",
      "[1296 2958 4050 5151 6246 7313 8383 9652]\n"
     ]
    },
    {
     "data": {
      "text/plain": [
       "[[399822.0, 580632],\n",
       " [1144430.0, 1325240],\n",
       " [1633667.0, 1814477],\n",
       " [2126936.0, 2307746],\n",
       " [2617517.0, 2798327],\n",
       " [3095554.0, 3276364],\n",
       " [3574934.0, 3755744],\n",
       " [4143471.0, 4324281]]"
      ]
     },
     "execution_count": 74,
     "metadata": {},
     "output_type": "execute_result"
    },
    {
     "data": {
      "image/png": "[encoded data removed]",
      "text/plain": [
       "<Figure size 640x480 with 1 Axes>"
      ]
     },
     "metadata": {},
     "output_type": "display_data"
    }
   ],
   "source": [
    "find_segments(song, sr)"
   ]
  },
  {
   "cell_type": "code",
   "execution_count": 65,
   "metadata": {},
   "outputs": [
    {
     "data": {
      "text/plain": [
       "<matplotlib.lines.Line2D at 0x391434c40>"
      ]
     },
     "execution_count": 65,
     "metadata": {},
     "output_type": "execute_result"
    },
    {
     "data": {
      "image/png": "[encoded data removed]",
      "text/plain": [
       "<Figure size 640x480 with 1 Axes>"
      ]
     },
     "metadata": {},
     "output_type": "display_data"
    }
   ],
   "source": [
    "plt.plot(conv_prod.T)\n",
    "plt.axhline(y=3000)"
   ]
  },
  {
   "cell_type": "code",
   "execution_count": 10,
   "metadata": {},
   "outputs": [
    {
     "name": "stdout",
     "output_type": "stream",
     "text": [
      "(array([59, 60, 61, 62, 63, 64]),)\n",
      "(65, 56882)\n"
     ]
    }
   ],
   "source": [
    "dt = 0.05 * sr\n",
    "f, t, sxx = spectrogram(song, fs=sr, window=(\"hann\"), nperseg=128)\n",
    "print(np.where(f > 2e4))\n",
    "print(sxx.shape)"
   ]
  },
  {
   "cell_type": "code",
   "execution_count": 11,
   "metadata": {},
   "outputs": [
    {
     "data": {
      "text/plain": [
       "[<matplotlib.lines.Line2D at 0x15f342ce0>]"
      ]
     },
     "execution_count": 11,
     "metadata": {},
     "output_type": "execute_result"
    },
    {
     "data": {
      "image/png": "[encoded data removed]",
      "text/plain": [
       "<Figure size 640x480 with 1 Axes>"
      ]
     },
     "metadata": {},
     "output_type": "display_data"
    }
   ],
   "source": [
    "# plt.imshow(sxx)\n",
    "plt.plot(sxx[60, :])"
   ]
  },
  {
   "cell_type": "code",
   "execution_count": null,
   "metadata": {},
   "outputs": [
    {
     "data": {
      "text/plain": [
       "[array([3943, 3944, 3947, 9593, 9594, 9598])]"
      ]
     },
     "execution_count": 103,
     "metadata": {},
     "output_type": "execute_result"
    }
   ],
   "source": [
    "clear_peaks(np.where(sxx[40, :] > 200), 20)"
   ]
  },
  {
   "cell_type": "code",
   "execution_count": null,
   "metadata": {},
   "outputs": [
    {
     "data": {
      "text/plain": [
       "(129, 10222)"
      ]
     },
     "execution_count": 51,
     "metadata": {},
     "output_type": "execute_result"
    }
   ],
   "source": [
    "sxx.shape\n",
    "# (sxx.shape[1]/song.shape[0]) * song.shape[0]"
   ]
  },
  {
   "cell_type": "code",
   "execution_count": null,
   "metadata": {},
   "outputs": [
    {
     "name": "stdout",
     "output_type": "stream",
     "text": [
      "10.024467120181406\n"
     ]
    }
   ],
   "source": [
    "ds = song.shape[0]/sxx.shape[1]\n",
    "# print(int(ds * 1971), int(ds*1973))\n",
    "# Audio(song[int(ds * 1500):np.ceil(ds*1975)], rate=fs)\n",
    "print(int(ds * 3947) / fs)\n",
    "\n",
    "\n",
    "# ds * 1971 / fs"
   ]
  },
  {
   "cell_type": "code",
   "execution_count": null,
   "metadata": {},
   "outputs": [],
   "source": []
  }
 ],
 "metadata": {
  "kernelspec": {
   "display_name": "KSCB",
   "language": "python",
   "name": "python3"
  },
  "language_info": {
   "codemirror_mode": {
    "name": "ipython",
    "version": 3
   },
   "file_extension": ".py",
   "mimetype": "text/x-python",
   "name": "python",
   "nbconvert_exporter": "python",
   "pygments_lexer": "ipython3",
   "version": "3.10.14"
  }
 },
 "nbformat": 4,
 "nbformat_minor": 2
}
